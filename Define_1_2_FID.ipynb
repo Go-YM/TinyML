{
 "cells": [
  {
   "cell_type": "code",
   "execution_count": 19,
   "metadata": {},
   "outputs": [],
   "source": [
    "import numpy as np\n",
    "from numpy import cov\n",
    "from numpy import trace\n",
    "from numpy import iscomplexobj\n",
    "from numpy.random import random\n",
    "from scipy.linalg import sqrtm\n",
    "from PIL import Image"
   ]
  },
  {
   "cell_type": "code",
   "execution_count": 25,
   "metadata": {},
   "outputs": [],
   "source": [
    "def calculate_fid(act1, act2):\n",
    "    # flatten the 2D array\n",
    "    act1 = act1.flatten()\n",
    "    act2 = act2.flatten()\n",
    "\n",
    "    # calculate mean and covariance statistics\n",
    "    mu1, sigma1 = act1.mean(), np.atleast_2d(cov(act1, rowvar=False))\n",
    "    mu2, sigma2 = act2.mean(), np.atleast_2d(cov(act2, rowvar=False))\n",
    "\n",
    "\n",
    "    # calculate sum squared difference between means\n",
    "    ssdiff = np.sum((mu1 - mu2)**2.0)\n",
    "\n",
    "    # calculate sqrt of product between cov\n",
    "    covmean = sqrtm(sigma1.dot(sigma2))\n",
    "\n",
    "    # check and correct imaginary numbers from sqrt\n",
    "    if iscomplexobj(covmean):\n",
    "        covmean = covmean.real\n",
    "\n",
    "    # calculate score\n",
    "    fid = ssdiff + trace(sigma1 + sigma2 - 2.0 * covmean)\n",
    "    return fid"
   ]
  },
  {
   "cell_type": "code",
   "execution_count": 136,
   "metadata": {},
   "outputs": [
    {
     "name": "stdout",
     "output_type": "stream",
     "text": [
      "FID (white noise): 0.012\n",
      "FID (white noise): 0.078\n",
      "FID (white noise): 0.154\n",
      "FID (white noise + augmentatiotn): 0.001\n",
      "FID (white noise + augmentatiotn): 0.000\n",
      "FID (white noise + augmentatiotn): 0.003\n",
      "FID (white noise + augmentatiotn): 0.019\n",
      "FID (white noise + augmentatiotn): 0.012\n",
      "FID (white noise + augmentatiotn): 0.024\n",
      "FID (white noise + augmentatiotn): 0.088\n",
      "FID (white noise + augmentatiotn): 0.078\n",
      "FID (white noise + augmentatiotn): 0.086\n",
      "FID (white noise + augmentatiotn): 0.173\n",
      "FID (white noise + augmentatiotn): 0.154\n",
      "FID (white noise + augmentatiotn): 0.166\n"
     ]
    }
   ],
   "source": [
    "act_original_path = \"C:\\\\Users\\\\user\\\\Desktop\\\\test\\\\Define\\\\Define_1_2\\\\lpc_er\\\\er_original_FAN_sound_error_13_augmentation_0.png\"\n",
    "act_original = np.array(Image.open(act_original_path))\n",
    "\n",
    "wn_list = [\"C:\\\\Users\\\\user\\\\Desktop\\\\test\\\\Define\\\\Define_1_2\\\\lpc_er\\\\er_0.001_FAN_sound_error_13_augmentation_0.png\", \n",
    "           \"C:\\\\Users\\\\user\\\\Desktop\\\\test\\\\Define\\\\Define_1_2\\\\lpc_er\\\\er_0.002_FAN_sound_error_13_augmentation_0.png\",\n",
    "           \"C:\\\\Users\\\\user\\\\Desktop\\\\test\\\\Define\\\\Define_1_2\\\\lpc_er\\\\er_0.003_FAN_sound_error_13_augmentation_0.png\"]\n",
    "\n",
    "for i in wn_list:\n",
    "    act_wn_path = i\n",
    "    act_wn = np.array(Image.open(act_wn_path))\n",
    "    fid = calculate_fid(act_original, act_wn)\n",
    "    print('FID (white noise): %.3f' % fid)\n",
    "\n",
    "aug_list = [\"C:\\\\Users\\\\user\\\\Desktop\\\\test\\\\Define\\\\Define_1_2\\\\lpc_er\\\\er_original_FAN_sound_error_13_augmentation_1.png\",\n",
    "     \"C:\\\\Users\\\\user\\\\Desktop\\\\test\\\\Define\\\\Define_1_2\\\\lpc_er\\\\er_original_FAN_sound_error_13_augmentation_2.png\",\n",
    "     \"C:\\\\Users\\\\user\\\\Desktop\\\\test\\\\Define\\\\Define_1_2\\\\lpc_er\\\\er_original_FAN_sound_error_13_augmentation_3.png\",\n",
    "     \"C:\\\\Users\\\\user\\\\Desktop\\\\test\\\\Define\\\\Define_1_2\\\\lpc_er\\\\er_0.001_FAN_sound_error_13_augmentation_1.png\",\n",
    "     \"C:\\\\Users\\\\user\\\\Desktop\\\\test\\\\Define\\\\Define_1_2\\\\lpc_er\\\\er_0.001_FAN_sound_error_13_augmentation_2.png\",\n",
    "     \"C:\\\\Users\\\\user\\\\Desktop\\\\test\\\\Define\\\\Define_1_2\\\\lpc_er\\\\er_0.001_FAN_sound_error_13_augmentation_3.png\",\n",
    "     \"C:\\\\Users\\\\user\\\\Desktop\\\\test\\\\Define\\\\Define_1_2\\\\lpc_er\\\\er_0.002_FAN_sound_error_13_augmentation_1.png\",\n",
    "     \"C:\\\\Users\\\\user\\\\Desktop\\\\test\\\\Define\\\\Define_1_2\\\\lpc_er\\\\er_0.002_FAN_sound_error_13_augmentation_2.png\",\n",
    "     \"C:\\\\Users\\\\user\\\\Desktop\\\\test\\\\Define\\\\Define_1_2\\\\lpc_er\\\\er_0.002_FAN_sound_error_13_augmentation_3.png\",\n",
    "     \"C:\\\\Users\\\\user\\\\Desktop\\\\test\\\\Define\\\\Define_1_2\\\\lpc_er\\\\er_0.003_FAN_sound_error_13_augmentation_1.png\",\n",
    "     \"C:\\\\Users\\\\user\\\\Desktop\\\\test\\\\Define\\\\Define_1_2\\\\lpc_er\\\\er_0.003_FAN_sound_error_13_augmentation_2.png\",\n",
    "     \"C:\\\\Users\\\\user\\\\Desktop\\\\test\\\\Define\\\\Define_1_2\\\\lpc_er\\\\er_0.003_FAN_sound_error_13_augmentation_3.png\"]\n",
    "\n",
    "for j in aug_list:\n",
    "    act_aug_path = j\n",
    "    act_aug = np.array(Image.open(act_aug_path))\n",
    "    fid = calculate_fid(act_original, act_aug)\n",
    "    print('FID (white noise + augmentatiotn): %.3f' % fid)"
   ]
  },
  {
   "cell_type": "code",
   "execution_count": null,
   "metadata": {},
   "outputs": [],
   "source": []
  }
 ],
 "metadata": {
  "kernelspec": {
   "display_name": "define_1_2_aug",
   "language": "python",
   "name": "python3"
  },
  "language_info": {
   "codemirror_mode": {
    "name": "ipython",
    "version": 3
   },
   "file_extension": ".py",
   "mimetype": "text/x-python",
   "name": "python",
   "nbconvert_exporter": "python",
   "pygments_lexer": "ipython3",
   "version": "3.9.18"
  }
 },
 "nbformat": 4,
 "nbformat_minor": 2
}
