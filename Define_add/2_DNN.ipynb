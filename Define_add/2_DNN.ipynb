{
 "cells": [
  {
   "cell_type": "code",
   "execution_count": 1,
   "metadata": {},
   "outputs": [],
   "source": [
    "import os\n",
    "import json\n",
    "import seaborn as sns\n",
    "import matplotlib .pyplot as plt\n",
    "from sklearn .model_selection import train_test_split\n",
    "import numpy as np"
   ]
  },
  {
   "cell_type": "code",
   "execution_count": 2,
   "metadata": {},
   "outputs": [],
   "source": [
    "file_path = 'D:\\\\Dataset\\\\#4_전력 설비 에너지 패턴 및 고장 분석 센서\\\\Training\\\\1.펌프_일반모터\\\\2.SOH진단\\\\1.역률평균\\\\0.Combined\\\\'\n",
    "files = ['Combined_LabelledData_346_역률평균.json', 'Combined_LabelledData_348_역률평균.json']\n",
    "x_label = []\n",
    "y_label = []\n",
    "\n",
    "for file_name in files:\n",
    "    full_path = file_path + file_name\n",
    "    with open(full_path, 'r', encoding='utf-8') as file:\n",
    "        data = json.load(file)\n",
    "\n",
    "    for entry in data['data']:\n",
    "        if entry['ITEM_NAME'] == \"역률평균\":\n",
    "            x_label.append(entry['ITEM_VALUE'])\n",
    "            if entry['LABEL_NAME']=='정상':\n",
    "                y_label.append(0)\n",
    "            elif entry['LABEL_NAME']=='경고':\n",
    "                y_label.append(1) \n",
    "            else:\n",
    "                y_label.append(2)\n",
    "\n",
    "x_label = np.array(x_label)\n",
    "x_label_scaled = (x_label - np.mean(x_label)) / np.std(x_label)\n",
    "\n"
   ]
  },
  {
   "cell_type": "code",
   "execution_count": 5,
   "metadata": {},
   "outputs": [
    {
     "name": "stdout",
     "output_type": "stream",
     "text": [
      "[    0     1     2 ... 57530 57531 57532]\n",
      "[20329 52449 44069 ... 43289 40686 55607]\n",
      "Train size: 34519\n",
      "Validation size: 11507\n",
      "Test size: 11507\n",
      "[0 1 0 ... 0 1 2]\n",
      "[0 1 0 ... 0 1 2]\n"
     ]
    }
   ],
   "source": [
    "data_indices = np.arange(len(x_label))\n",
    "print(data_indices)\n",
    "np.random.shuffle(data_indices)\n",
    "print(data_indices)\n",
    "\n",
    "x_label = np.array(x_label)[data_indices]\n",
    "y_label = np.array(y_label)[data_indices]\n",
    "\n",
    "x_train, x_temp, y_train, y_temp = train_test_split(x_label, y_label, test_size=0.4, random_state=42)\n",
    "x_valid, x_test, y_valid, y_test = train_test_split(x_temp, y_temp, test_size=0.5, random_state=42)\n",
    "x_train = x_train.reshape(-1,1)\n",
    "x_test = x_test.reshape(-1,1)\n",
    "\n",
    "print(f\"Train size: {len(x_train)}\")\n",
    "print(f\"Validation size: {len(x_valid)}\")\n",
    "print(f\"Test size: {len(x_test)}\")\n",
    "\n",
    "print(y_train)\n",
    "\n",
    "print(y_train)"
   ]
  },
  {
   "cell_type": "code",
   "execution_count": 9,
   "metadata": {},
   "outputs": [
    {
     "name": "stdout",
     "output_type": "stream",
     "text": [
      "Epoch 1/10\n",
      "1079/1079 [==============================] - 1s 982us/step - loss: 0.4297 - accuracy: 0.4338\n",
      "Epoch 2/10\n",
      "1079/1079 [==============================] - 1s 995us/step - loss: 0.0181 - accuracy: 0.6266\n",
      "Epoch 3/10\n",
      "1079/1079 [==============================] - 1s 1ms/step - loss: 0.0100 - accuracy: 0.6267\n",
      "Epoch 4/10\n",
      "1079/1079 [==============================] - 1s 981us/step - loss: 0.0088 - accuracy: 0.6267\n",
      "Epoch 5/10\n",
      "1079/1079 [==============================] - 1s 995us/step - loss: 0.0075 - accuracy: 0.6267\n",
      "Epoch 6/10\n",
      "1079/1079 [==============================] - 1s 964us/step - loss: 0.0061 - accuracy: 0.6267\n",
      "Epoch 7/10\n",
      "1079/1079 [==============================] - 1s 970us/step - loss: 0.0050 - accuracy: 0.6267\n",
      "Epoch 8/10\n",
      "1079/1079 [==============================] - 1s 957us/step - loss: 0.0041 - accuracy: 0.6267\n",
      "Epoch 9/10\n",
      "1079/1079 [==============================] - 1s 995us/step - loss: 0.0035 - accuracy: 0.6267\n",
      "Epoch 10/10\n",
      "1079/1079 [==============================] - 1s 995us/step - loss: 0.0030 - accuracy: 0.6267\n"
     ]
    }
   ],
   "source": [
    "from tensorflow.keras.models import Sequential\n",
    "from tensorflow.keras.layers import Dense\n",
    "from tensorflow.keras.models import save_model, load_model\n",
    "\n",
    "model_dnn = Sequential()\n",
    "model_dnn.add(Dense(64, activation='relu', input_shape=(1,))) \n",
    "model_dnn.add(Dense(64, activation='relu'))\n",
    "model_dnn.add(Dense(1)) \n",
    "\n",
    "model_dnn.compile(optimizer='adam', loss='mean_squared_error', metrics=['accuracy'])\n",
    "\n",
    "x_train = x_train.reshape((x_train.shape[0], 1))\n",
    "\n",
    "model_dnn.fit(x_train, y_train, epochs=10, batch_size=32)\n",
    "\n",
    "model_dnn.save('dnn_model.h5')"
   ]
  },
  {
   "cell_type": "code",
   "execution_count": null,
   "metadata": {},
   "outputs": [],
   "source": []
  }
 ],
 "metadata": {
  "kernelspec": {
   "display_name": "tinyml_1",
   "language": "python",
   "name": "python3"
  },
  "language_info": {
   "codemirror_mode": {
    "name": "ipython",
    "version": 3
   },
   "file_extension": ".py",
   "mimetype": "text/x-python",
   "name": "python",
   "nbconvert_exporter": "python",
   "pygments_lexer": "ipython3",
   "version": "3.9.18"
  }
 },
 "nbformat": 4,
 "nbformat_minor": 2
}
