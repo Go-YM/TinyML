{
 "cells": [
  {
   "cell_type": "code",
   "execution_count": 25,
   "metadata": {},
   "outputs": [],
   "source": [
    "import numpy as np\n",
    "import tensorflow as tf\n",
    "from tensorflow import keras\n",
    "import os\n",
    "import pandas as pd\n",
    "import seaborn as sns\n",
    "import matplotlib .pyplot as plt\n",
    "from sklearn.ensemble import RandomForestClassifier\n",
    "from sklearn.model_selection import train_test_split\n",
    "from sklearn.metrics import accuracy_score, confusion_matrix, classification_report\n",
    "from sklearn .svm import SVC\n",
    "import joblib\n",
    "from joblib import dump\n",
    "import h5py\n",
    "import json"
   ]
  },
  {
   "cell_type": "code",
   "execution_count": 26,
   "metadata": {},
   "outputs": [],
   "source": [
    "file_path = 'D:\\\\Dataset\\\\#4_전력 설비 에너지 패턴 및 고장 분석 센서\\\\Training\\\\1.펌프_일반모터\\\\2.SOH진단\\\\1.역률평균\\\\0.Combined\\\\'\n",
    "files = ['Combined_LabelledData_346_역률평균.json', 'Combined_LabelledData_348_역률평균.json']\n",
    "x_label = []\n",
    "y_label = []\n",
    "\n",
    "for file_name in files:\n",
    "    full_path = file_path + file_name\n",
    "    with open(full_path, 'r', encoding='utf-8') as file:\n",
    "        data = json.load(file)\n",
    "\n",
    "    for entry in data['data']:\n",
    "        if entry['ITEM_NAME'] == \"역률평균\":\n",
    "            x_label.append(entry['ITEM_VALUE'])\n",
    "            # y_label.append(entry['LABEL_NAME'])\n",
    "            # 정상 -> 0\n",
    "            if entry['LABEL_NAME']=='정상':\n",
    "                y_label.append(0)\n",
    "            # 주의 -> 1\n",
    "            elif entry['LABEL_NAME']=='주의':\n",
    "                y_label.append(1)\n",
    "            # 경고 -> 2\n",
    "            else:\n",
    "                y_label.append(2)\n",
    "\n",
    "x_label = np.array(x_label)\n",
    "x_label_scaled = (x_label - np.mean(x_label)) / np.std(x_label)"
   ]
  },
  {
   "cell_type": "code",
   "execution_count": 27,
   "metadata": {},
   "outputs": [
    {
     "name": "stdout",
     "output_type": "stream",
     "text": [
      "[    0     1     2 ... 57530 57531 57532]\n",
      "[ 4079 41308 40600 ... 48684 15595  8275]\n",
      "Train size: 34519\n",
      "Validation size: 11507\n",
      "Test size: 11507\n"
     ]
    }
   ],
   "source": [
    "data_indices = np.arange(len(x_label))\n",
    "print(data_indices)\n",
    "np.random.shuffle(data_indices)\n",
    "print(data_indices)\n",
    "\n",
    "x_label = np.array(x_label)[data_indices]\n",
    "y_label = np.array(y_label)[data_indices]\n",
    "\n",
    "x_train, x_temp, y_train, y_temp = train_test_split(x_label, y_label, test_size=0.4, random_state=42)\n",
    "x_valid, x_test, y_valid, y_test = train_test_split(x_temp, y_temp, test_size=0.5, random_state=42)\n",
    "x_train = x_train.reshape(-1,1)\n",
    "x_test = x_test.reshape(-1,1)\n",
    "\n",
    "print(f\"Train size: {len(x_train)}\")\n",
    "print(f\"Validation size: {len(x_valid)}\")\n",
    "print(f\"Test size: {len(x_test)}\")\n"
   ]
  },
  {
   "cell_type": "code",
   "execution_count": 28,
   "metadata": {},
   "outputs": [],
   "source": [
    "def train_and_save_model(x_train, y_train, model_save_path):\n",
    "    # RandomForestClassifier 모델 초기화 및 학습\n",
    "    model = RandomForestClassifier()\n",
    "    model.fit(x_train, y_train)\n",
    "\n",
    "    # 모델 저장\n",
    "    joblib.dump(model, model_save_path)"
   ]
  },
  {
   "cell_type": "code",
   "execution_count": 29,
   "metadata": {},
   "outputs": [],
   "source": [
    "model_save_path = 'C:\\\\Users\\\\user\\\\Desktop\\\\test\\\\Define\\\\Define_add\\\\rf_model.pkl'\n",
    "train_and_save_model(x_train, y_train, model_save_path)"
   ]
  },
  {
   "cell_type": "code",
   "execution_count": 30,
   "metadata": {},
   "outputs": [
    {
     "name": "stdout",
     "output_type": "stream",
     "text": [
      "Accuracy: 0.9966\n",
      "Confusion Matrix:\n",
      "[[2342    0    0]\n",
      " [   1 4185   23]\n",
      " [   0   15 4941]]\n",
      "Classification Report:\n",
      "              precision    recall  f1-score   support\n",
      "\n",
      "           0       1.00      1.00      1.00      2342\n",
      "           1       1.00      0.99      1.00      4209\n",
      "           2       1.00      1.00      1.00      4956\n",
      "\n",
      "    accuracy                           1.00     11507\n",
      "   macro avg       1.00      1.00      1.00     11507\n",
      "weighted avg       1.00      1.00      1.00     11507\n",
      "\n"
     ]
    }
   ],
   "source": [
    "# 모델 로드\n",
    "loaded_model = joblib.load('C:\\\\Users\\\\user\\\\Desktop\\\\test\\\\Define\\\\Define_add\\\\rf_model.pkl')  # 모델 파일 경로로 변경\n",
    "\n",
    "# 테스트 데이터에 대한 예측 수행\n",
    "y_pred = loaded_model.predict(x_test)\n",
    "\n",
    "accuracy = accuracy_score(y_test, y_pred)\n",
    "print(f'Accuracy: {accuracy:.4f}')\n",
    "\n",
    "# Confusion matrix 출력\n",
    "cm = confusion_matrix(y_test, y_pred)\n",
    "print('Confusion Matrix:')\n",
    "print(cm)\n",
    "\n",
    "# Classification report 출력\n",
    "classification_rep = classification_report(y_test, y_pred)\n",
    "print('Classification Report:')\n",
    "print(classification_rep)\n"
   ]
  },
  {
   "cell_type": "code",
   "execution_count": null,
   "metadata": {},
   "outputs": [],
   "source": []
  }
 ],
 "metadata": {
  "kernelspec": {
   "display_name": "define_4",
   "language": "python",
   "name": "python3"
  },
  "language_info": {
   "codemirror_mode": {
    "name": "ipython",
    "version": 3
   },
   "file_extension": ".py",
   "mimetype": "text/x-python",
   "name": "python",
   "nbconvert_exporter": "python",
   "pygments_lexer": "ipython3",
   "version": "3.10.13"
  }
 },
 "nbformat": 4,
 "nbformat_minor": 2
}
