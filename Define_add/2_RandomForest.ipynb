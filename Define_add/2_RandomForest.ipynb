{
 "cells": [
  {
   "cell_type": "code",
   "execution_count": 69,
   "metadata": {},
   "outputs": [],
   "source": [
    "import numpy as np\n",
    "import tensorflow as tf\n",
    "from tensorflow import keras\n",
    "import os\n",
    "import pandas as pd\n",
    "import seaborn as sns\n",
    "import matplotlib .pyplot as plt\n",
    "from sklearn.ensemble import RandomForestClassifier\n",
    "from sklearn.model_selection import train_test_split\n",
    "from sklearn.metrics import accuracy_score, confusion_matrix\n",
    "from sklearn .svm import SVC\n",
    "import joblib\n",
    "from joblib import dump\n",
    "import h5py\n",
    "import json"
   ]
  },
  {
   "cell_type": "code",
   "execution_count": 70,
   "metadata": {},
   "outputs": [],
   "source": [
    "file_path = 'D:\\\\Dataset\\\\#4_전력 설비 에너지 패턴 및 고장 분석 센서\\\\Training\\\\1.펌프_일반모터\\\\2.SOH진단\\\\1.역률평균\\\\0.Combined\\\\'\n",
    "files = ['Combined_LabelledData_346_역률평균.json', 'Combined_LabelledData_348_역률평균.json']\n",
    "x_label = []\n",
    "y_label = []\n",
    "\n",
    "for file_name in files:\n",
    "    full_path = file_path + file_name\n",
    "    with open(full_path, 'r', encoding='utf-8') as file:\n",
    "        data = json.load(file)\n",
    "\n",
    "    for entry in data['data']:\n",
    "        if entry['ITEM_NAME'] == \"역률평균\":\n",
    "            x_label.append(entry['ITEM_VALUE'])\n",
    "            y_label.append(entry['LABEL_NAME'])\n",
    "\n",
    "x_label = np.array(x_label)\n",
    "x_label_scaled = (x_label - np.mean(x_label)) / np.std(x_label)\n"
   ]
  },
  {
   "cell_type": "code",
   "execution_count": 71,
   "metadata": {},
   "outputs": [
    {
     "name": "stdout",
     "output_type": "stream",
     "text": [
      "[    0     1     2 ... 57530 57531 57532]\n",
      "[ 8738  8505 43120 ... 24303 12468 19775]\n",
      "Train size: 34519\n",
      "Validation size: 11507\n",
      "Test size: 11507\n"
     ]
    }
   ],
   "source": [
    "data_indices = np.arange(len(x_label))\n",
    "print(data_indices)\n",
    "np.random.shuffle(data_indices)\n",
    "print(data_indices)\n",
    "\n",
    "x_label = np.array(x_label)[data_indices]\n",
    "y_label = np.array(y_label)[data_indices]\n",
    "\n",
    "x_train, x_temp, y_train, y_temp = train_test_split(x_label, y_label, test_size=0.4, random_state=42)\n",
    "x_valid, x_test, y_valid, y_test = train_test_split(x_temp, y_temp, test_size=0.5, random_state=42)\n",
    "x_train = x_train.reshape(-1,1)\n",
    "x_test = x_test.reshape(-1,1)\n",
    "\n",
    "print(f\"Train size: {len(x_train)}\")\n",
    "print(f\"Validation size: {len(x_valid)}\")\n",
    "print(f\"Test size: {len(x_test)}\")\n"
   ]
  },
  {
   "cell_type": "code",
   "execution_count": 74,
   "metadata": {},
   "outputs": [],
   "source": [
    "def train_and_save_model(x_train, y_train, model_save_path):\n",
    "    # RandomForestClassifier 모델 초기화 및 학습\n",
    "    model = RandomForestClassifier()\n",
    "    model.fit(x_train, y_train)\n",
    "\n",
    "    # 모델 저장\n",
    "    joblib.dump(model, model_save_path)\n",
    "\n",
    "    # 테스트 데이터로 예측\n",
    "    y_pred = model.predict(x_test)\n",
    "\n",
    "    # 정확도 및 분류 보고서 출력\n",
    "    accuracy = accuracy_score(y_test, y_pred)\n",
    "    print(f'Accuracy: {accuracy:.4f}')\n",
    "    \n",
    "def model_to_h5(model_save_path, h5_save_path):\n",
    "    # 모델 불러오기\n",
    "    model = joblib.load(model_save_path)\n",
    "\n",
    "    # H5 파일로 저장\n",
    "    with h5py.File(h5_save_path, 'w') as hf:\n",
    "        for key, value in model.__dict__.items():\n",
    "            try:\n",
    "                hf.create_dataset(key, data=value)\n",
    "            except TypeError:\n",
    "                pass"
   ]
  },
  {
   "cell_type": "code",
   "execution_count": 75,
   "metadata": {},
   "outputs": [
    {
     "name": "stdout",
     "output_type": "stream",
     "text": [
      "Accuracy: 0.9966\n"
     ]
    }
   ],
   "source": [
    "model_save_path = 'C:\\\\Users\\\\user\\\\Desktop\\\\test\\\\Define\\\\Define_add\\\\rf_model.joblib'\n",
    "h5_save_path = 'C:\\\\Users\\\\user\\\\Desktop\\\\test\\\\Define\\\\Define_add\\\\rf_model.h5'\n",
    "train_and_save_model(x_train, y_train, model_save_path)\n",
    "model_to_h5(model_save_path, h5_save_path)"
   ]
  },
  {
   "cell_type": "code",
   "execution_count": null,
   "metadata": {},
   "outputs": [],
   "source": []
  },
  {
   "cell_type": "code",
   "execution_count": null,
   "metadata": {},
   "outputs": [],
   "source": []
  }
 ],
 "metadata": {
  "kernelspec": {
   "display_name": "define_4",
   "language": "python",
   "name": "python3"
  },
  "language_info": {
   "codemirror_mode": {
    "name": "ipython",
    "version": 3
   },
   "file_extension": ".py",
   "mimetype": "text/x-python",
   "name": "python",
   "nbconvert_exporter": "python",
   "pygments_lexer": "ipython3",
   "version": "3.10.13"
  }
 },
 "nbformat": 4,
 "nbformat_minor": 2
}
