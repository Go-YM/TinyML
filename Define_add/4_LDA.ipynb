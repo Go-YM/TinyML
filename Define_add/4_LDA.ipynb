{
 "cells": [
  {
   "cell_type": "code",
   "execution_count": 1,
   "metadata": {},
   "outputs": [],
   "source": [
    "import numpy as np\n",
    "import tensorflow as tf\n",
    "from tensorflow import keras\n",
    "import os \n",
    "import pandas as pd\n",
    "from sklearn.discriminant_analysis import LinearDiscriminantAnalysis\n",
    "from sklearn.model_selection import train_test_split\n",
    "from sklearn.metrics import accuracy_score, confusion_matrix, classification_report\n",
    "import joblib\n",
    "import h5py\n",
    "\n",
    "import matplotlib.pyplot as plt"
   ]
  },
  {
   "cell_type": "code",
   "execution_count": 2,
   "metadata": {},
   "outputs": [
    {
     "name": "stdout",
     "output_type": "stream",
     "text": [
      "0       1\n",
      "1       1\n",
      "2       1\n",
      "3       1\n",
      "4       1\n",
      "       ..\n",
      "6536    1\n",
      "6537    1\n",
      "6538    1\n",
      "6539    1\n",
      "6540    1\n",
      "Name: Pattern Label, Length: 6541, dtype: int64\n"
     ]
    }
   ],
   "source": [
    "# csv 파일 로드 (해당 열 로드)\n",
    "df=pd.read_csv('C:\\\\Users\\\\user\\\\Desktop\\\\test\\\\Define\\\\tinyML\\\\data_temp.csv') # 실제 경로로 변경\n",
    "X = df[['cb_data_Temp']]\n",
    "\n",
    "# 'Pattern Label' 열 값 변환 (loading: 0, unloading: 1)\n",
    "y = df['Pattern Label'] = df['Pattern Label'].map({'Loading': 0, 'Unloading': 1})\n",
    "\n",
    "# 변환된 'Pattern Label' 열 출력\n",
    "print(df['Pattern Label'])\n",
    "\n",
    "\n",
    "\n",
    "# data set 분할 (train:test=8:2) -> test size를 조절하여 수정\n",
    "x_train, x_test, y_train, y_test = train_test_split(X, y, test_size=0.2, random_state=42)\n",
    "\n",
    "def train_and_save_model(x_train, y_train, model_save_path):\n",
    "    # RandomForestClassifier 모델 초기화 및 학습\n",
    "    model = LinearDiscriminantAnalysis()\n",
    "    model.fit(x_train, y_train)\n",
    "\n",
    "    # 모델 저장\n",
    "    joblib.dump(model, model_save_path)\n",
    "\n",
    "model_save_path = 'C:\\\\Users\\\\user\\\\Desktop\\\\test\\\\Define\\\\Define_add\\\\lda_model.pkl'\n",
    "train_and_save_model(x_train, y_train, model_save_path)"
   ]
  },
  {
   "cell_type": "code",
   "execution_count": 3,
   "metadata": {},
   "outputs": [
    {
     "name": "stdout",
     "output_type": "stream",
     "text": [
      "Accuracy: 0.8373\n",
      "Confusion Matrix:\n",
      "[[675 113]\n",
      " [100 421]]\n",
      "Classification Report:\n",
      "              precision    recall  f1-score   support\n",
      "\n",
      "           0       0.87      0.86      0.86       788\n",
      "           1       0.79      0.81      0.80       521\n",
      "\n",
      "    accuracy                           0.84      1309\n",
      "   macro avg       0.83      0.83      0.83      1309\n",
      "weighted avg       0.84      0.84      0.84      1309\n",
      "\n",
      "Binary Predictions:\n",
      "[False  True False ... False False False]\n"
     ]
    }
   ],
   "source": [
    "# 모델 로드\n",
    "loaded_model = joblib.load('C:\\\\Users\\\\user\\\\Desktop\\\\test\\\\Define\\\\Define_add\\\\lda_model.pkl')  # 모델 파일 경로로 변경\n",
    "\n",
    "# 테스트 데이터에 대한 예측 수행\n",
    "y_pred = loaded_model.predict(x_test)\n",
    "\n",
    "accuracy = accuracy_score(y_test, y_pred)\n",
    "print(f'Accuracy: {accuracy:.4f}')\n",
    "\n",
    "# Confusion matrix 출력\n",
    "cm = confusion_matrix(y_test, y_pred)\n",
    "print('Confusion Matrix:')\n",
    "print(cm)\n",
    "\n",
    "# Classification report 출력\n",
    "classification_rep = classification_report(y_test, y_pred)\n",
    "print('Classification Report:')\n",
    "print(classification_rep)\n",
    "\n",
    "# 문자열을 숫자로 변환 (예시: '1'을 1로, '0'을 0으로)\n",
    "y_pred_numeric = y_pred.astype(float)\n",
    "\n",
    "# 이후에 비교 연산을 수행\n",
    "y_pred_binary = (y_pred_numeric > 0.5)\n",
    "print(\"Binary Predictions:\")\n",
    "print(y_pred_binary)\n"
   ]
  },
  {
   "cell_type": "code",
   "execution_count": null,
   "metadata": {},
   "outputs": [],
   "source": []
  }
 ],
 "metadata": {
  "kernelspec": {
   "display_name": "tinyml_1",
   "language": "python",
   "name": "python3"
  },
  "language_info": {
   "codemirror_mode": {
    "name": "ipython",
    "version": 3
   },
   "file_extension": ".py",
   "mimetype": "text/x-python",
   "name": "python",
   "nbconvert_exporter": "python",
   "pygments_lexer": "ipython3",
   "version": "3.10.13"
  }
 },
 "nbformat": 4,
 "nbformat_minor": 2
}
