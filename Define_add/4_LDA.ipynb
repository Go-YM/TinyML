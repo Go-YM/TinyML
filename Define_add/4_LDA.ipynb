{
 "cells": [
  {
   "cell_type": "code",
   "execution_count": 13,
   "metadata": {},
   "outputs": [],
   "source": [
    "import numpy as np\n",
    "import tensorflow as tf\n",
    "from tensorflow import keras\n",
    "import os \n",
    "import pandas as pd\n",
    "from sklearn.discriminant_analysis import LinearDiscriminantAnalysis\n",
    "from sklearn.model_selection import train_test_split\n",
    "from sklearn.metrics import accuracy_score, confusion_matrix, classification_report\n",
    "import joblib\n",
    "import h5py\n",
    "\n",
    "\n",
    "import matplotlib.pyplot as plt"
   ]
  },
  {
   "cell_type": "code",
   "execution_count": 14,
   "metadata": {},
   "outputs": [
    {
     "name": "stdout",
     "output_type": "stream",
     "text": [
      "Accuracy: 0.8373\n",
      "Confusion Matrix:\n",
      "[[675 113]\n",
      " [100 421]]\n",
      "Classification Report:\n",
      "              precision    recall  f1-score   support\n",
      "\n",
      "     Loading       0.87      0.86      0.86       788\n",
      "   Unloading       0.79      0.81      0.80       521\n",
      "\n",
      "    accuracy                           0.84      1309\n",
      "   macro avg       0.83      0.83      0.83      1309\n",
      "weighted avg       0.84      0.84      0.84      1309\n",
      "\n"
     ]
    }
   ],
   "source": [
    "# csv 파일 로드 (해당 열 로드)\n",
    "df=pd.read_csv('C:\\\\Users\\\\user\\\\Desktop\\\\test\\\\Define\\\\tinyML\\\\data_temp.csv') # 실제 경로로 변경\n",
    "X = df[['cb_data_Temp']]\n",
    "y = df['Pattern Label']\n",
    "\n",
    "# data set 분할 (train:test=8:2) -> test size를 조절하여 수정\n",
    "x_train, x_test, y_train, y_test = train_test_split(X, y, test_size=0.2, random_state=42)\n",
    "\n",
    "def train_and_save_model(x_train, y_train, model_save_path):\n",
    "    # RandomForestClassifier 모델 초기화 및 학습\n",
    "    model = LinearDiscriminantAnalysis()\n",
    "    model.fit(x_train, y_train)\n",
    "\n",
    "    # 모델 저장\n",
    "    joblib.dump(model, model_save_path)\n",
    "\n",
    "    # 테스트 데이터로 예측\n",
    "    y_pred = model.predict(x_test)\n",
    "\n",
    "    # 정확도 및 분류 보고서 출력\n",
    "    accuracy = accuracy_score(y_test, y_pred)\n",
    "    print(f'Accuracy: {accuracy:.4f}')\n",
    "\n",
    "    # Confusion matrix 출력\n",
    "    cm = confusion_matrix(y_test, y_pred)\n",
    "    print('Confusion Matrix:')\n",
    "    print(cm)\n",
    "\n",
    "    # Classification report 출력\n",
    "    classification_rep = classification_report(y_test, y_pred)\n",
    "    print('Classification Report:')\n",
    "    print(classification_rep)\n",
    "    \n",
    "def model_to_h5(model_save_path, h5_save_path):\n",
    "    # 모델 불러오기\n",
    "    model = joblib.load(model_save_path)\n",
    "\n",
    "    # H5 파일로 저장\n",
    "    with h5py.File(h5_save_path, 'w') as hf:\n",
    "        for key, value in model.__dict__.items():\n",
    "            try:\n",
    "                hf.create_dataset(key, data=value)\n",
    "            except TypeError:\n",
    "                pass\n",
    "\n",
    "\n",
    "\n",
    "model_save_path = 'C:\\\\Users\\\\user\\\\Desktop\\\\test\\\\Define\\\\Define_add\\\\lda_model.joblib'\n",
    "h5_save_path = 'C:\\\\Users\\\\user\\\\Desktop\\\\test\\\\Define\\\\Define_add\\\\lda_model.h5'\n",
    "train_and_save_model(x_train, y_train, model_save_path)\n",
    "model_to_h5(model_save_path, h5_save_path)"
   ]
  },
  {
   "cell_type": "code",
   "execution_count": 17,
   "metadata": {},
   "outputs": [
    {
     "ename": "ValueError",
     "evalue": "No model config found in the file at <tensorflow.python.platform.gfile.GFile object at 0x000002B895ECEC50>.",
     "output_type": "error",
     "traceback": [
      "\u001b[1;31m---------------------------------------------------------------------------\u001b[0m",
      "\u001b[1;31mValueError\u001b[0m                                Traceback (most recent call last)",
      "Cell \u001b[1;32mIn[17], line 4\u001b[0m\n\u001b[0;32m      1\u001b[0m \u001b[38;5;28;01mfrom\u001b[39;00m \u001b[38;5;21;01mkeras\u001b[39;00m\u001b[38;5;21;01m.\u001b[39;00m\u001b[38;5;21;01mmodels\u001b[39;00m \u001b[38;5;28;01mimport\u001b[39;00m load_model\n\u001b[0;32m      3\u001b[0m \u001b[38;5;66;03m# 모델 로드\u001b[39;00m\n\u001b[1;32m----> 4\u001b[0m loaded_model \u001b[38;5;241m=\u001b[39m \u001b[43mload_model\u001b[49m\u001b[43m(\u001b[49m\u001b[38;5;124;43m'\u001b[39;49m\u001b[38;5;124;43mC:\u001b[39;49m\u001b[38;5;130;43;01m\\\\\u001b[39;49;00m\u001b[38;5;124;43mUsers\u001b[39;49m\u001b[38;5;130;43;01m\\\\\u001b[39;49;00m\u001b[38;5;124;43muser\u001b[39;49m\u001b[38;5;130;43;01m\\\\\u001b[39;49;00m\u001b[38;5;124;43mDesktop\u001b[39;49m\u001b[38;5;130;43;01m\\\\\u001b[39;49;00m\u001b[38;5;124;43mtest\u001b[39;49m\u001b[38;5;130;43;01m\\\\\u001b[39;49;00m\u001b[38;5;124;43mDefine\u001b[39;49m\u001b[38;5;130;43;01m\\\\\u001b[39;49;00m\u001b[38;5;124;43mDefine_add\u001b[39;49m\u001b[38;5;130;43;01m\\\\\u001b[39;49;00m\u001b[38;5;124;43mlda_model.h5\u001b[39;49m\u001b[38;5;124;43m'\u001b[39;49m\u001b[43m)\u001b[49m  \u001b[38;5;66;03m# 모델 파일 경로로 변경\u001b[39;00m\n\u001b[0;32m      6\u001b[0m \u001b[38;5;66;03m# 테스트 데이터에 대한 예측 수행\u001b[39;00m\n\u001b[0;32m      7\u001b[0m y_pred \u001b[38;5;241m=\u001b[39m loaded_model\u001b[38;5;241m.\u001b[39mpredict(x_test)\n",
      "File \u001b[1;32mc:\\Users\\user\\anaconda3\\envs\\tinyml_1\\lib\\site-packages\\keras\\utils\\traceback_utils.py:70\u001b[0m, in \u001b[0;36mfilter_traceback.<locals>.error_handler\u001b[1;34m(*args, **kwargs)\u001b[0m\n\u001b[0;32m     67\u001b[0m     filtered_tb \u001b[38;5;241m=\u001b[39m _process_traceback_frames(e\u001b[38;5;241m.\u001b[39m__traceback__)\n\u001b[0;32m     68\u001b[0m     \u001b[38;5;66;03m# To get the full stack trace, call:\u001b[39;00m\n\u001b[0;32m     69\u001b[0m     \u001b[38;5;66;03m# `tf.debugging.disable_traceback_filtering()`\u001b[39;00m\n\u001b[1;32m---> 70\u001b[0m     \u001b[38;5;28;01mraise\u001b[39;00m e\u001b[38;5;241m.\u001b[39mwith_traceback(filtered_tb) \u001b[38;5;28;01mfrom\u001b[39;00m \u001b[38;5;28;01mNone\u001b[39;00m\n\u001b[0;32m     71\u001b[0m \u001b[38;5;28;01mfinally\u001b[39;00m:\n\u001b[0;32m     72\u001b[0m     \u001b[38;5;28;01mdel\u001b[39;00m filtered_tb\n",
      "File \u001b[1;32mc:\\Users\\user\\anaconda3\\envs\\tinyml_1\\lib\\site-packages\\keras\\saving\\hdf5_format.py:194\u001b[0m, in \u001b[0;36mload_model_from_hdf5\u001b[1;34m(filepath, custom_objects, compile)\u001b[0m\n\u001b[0;32m    192\u001b[0m model_config \u001b[38;5;241m=\u001b[39m f\u001b[38;5;241m.\u001b[39mattrs\u001b[38;5;241m.\u001b[39mget(\u001b[38;5;124m\"\u001b[39m\u001b[38;5;124mmodel_config\u001b[39m\u001b[38;5;124m\"\u001b[39m)\n\u001b[0;32m    193\u001b[0m \u001b[38;5;28;01mif\u001b[39;00m model_config \u001b[38;5;129;01mis\u001b[39;00m \u001b[38;5;28;01mNone\u001b[39;00m:\n\u001b[1;32m--> 194\u001b[0m     \u001b[38;5;28;01mraise\u001b[39;00m \u001b[38;5;167;01mValueError\u001b[39;00m(\n\u001b[0;32m    195\u001b[0m         \u001b[38;5;124mf\u001b[39m\u001b[38;5;124m\"\u001b[39m\u001b[38;5;124mNo model config found in the file at \u001b[39m\u001b[38;5;132;01m{\u001b[39;00mfilepath\u001b[38;5;132;01m}\u001b[39;00m\u001b[38;5;124m.\u001b[39m\u001b[38;5;124m\"\u001b[39m\n\u001b[0;32m    196\u001b[0m     )\n\u001b[0;32m    197\u001b[0m \u001b[38;5;28;01mif\u001b[39;00m \u001b[38;5;28mhasattr\u001b[39m(model_config, \u001b[38;5;124m\"\u001b[39m\u001b[38;5;124mdecode\u001b[39m\u001b[38;5;124m\"\u001b[39m):\n\u001b[0;32m    198\u001b[0m     model_config \u001b[38;5;241m=\u001b[39m model_config\u001b[38;5;241m.\u001b[39mdecode(\u001b[38;5;124m\"\u001b[39m\u001b[38;5;124mutf-8\u001b[39m\u001b[38;5;124m\"\u001b[39m)\n",
      "\u001b[1;31mValueError\u001b[0m: No model config found in the file at <tensorflow.python.platform.gfile.GFile object at 0x000002B895ECEC50>."
     ]
    }
   ],
   "source": [
    "from keras.models import load_model\n",
    "\n",
    "# 모델 로드\n",
    "loaded_model = load_model('C:\\\\Users\\\\user\\\\Desktop\\\\test\\\\Define\\\\Define_add\\\\lda_model.h5')  # 모델 파일 경로로 변경\n",
    "\n",
    "# 테스트 데이터에 대한 예측 수행\n",
    "y_pred = loaded_model.predict(x_test)\n",
    "y_pred = (y_pred > 0.5)  \n",
    "\n",
    "# 예측 결과 출력\n",
    "print(\"Predictions:\")\n",
    "print(y_pred)\n"
   ]
  },
  {
   "cell_type": "code",
   "execution_count": null,
   "metadata": {},
   "outputs": [],
   "source": []
  }
 ],
 "metadata": {
  "kernelspec": {
   "display_name": "tinyml_1",
   "language": "python",
   "name": "python3"
  },
  "language_info": {
   "codemirror_mode": {
    "name": "ipython",
    "version": 3
   },
   "file_extension": ".py",
   "mimetype": "text/x-python",
   "name": "python",
   "nbconvert_exporter": "python",
   "pygments_lexer": "ipython3",
   "version": "3.10.13"
  }
 },
 "nbformat": 4,
 "nbformat_minor": 2
}
