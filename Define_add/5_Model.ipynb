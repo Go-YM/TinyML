{
 "cells": [
  {
   "cell_type": "code",
   "execution_count": 82,
   "metadata": {},
   "outputs": [],
   "source": [
    "import numpy as np\n",
    "import tensorflow as tf\n",
    "from tensorflow import keras\n",
    "import os \n",
    "import joblib\n",
    "import h5py\n",
    "import pandas as pd\n",
    "from sklearn.ensemble import RandomForestClassifier\n",
    "from sklearn.model_selection import train_test_split\n",
    "from sklearn.metrics import accuracy_score, classification_report, confusion_matrix\n",
    "import joblib\n",
    "from joblib import dump\n",
    "import matplotlib.pyplot as plt"
   ]
  },
  {
   "cell_type": "code",
   "execution_count": 83,
   "metadata": {},
   "outputs": [],
   "source": [
    "df=pd.read_csv('C:\\\\Users\\\\user\\\\Desktop\\\\test\\\\Define\\\\tinyML\\\\data_sound.csv')\n",
    "X = df[['cb_data_Audio_Level']]\n",
    "y = df['Pattern Label'].map({'Loading': 0, 'Unloading': 1})\n",
    "\n",
    "# data set 분할 (train:test=8:2) -> test size를 조절하여 수정\n",
    "X_train, X_test, y_train, y_test = train_test_split(X, y, test_size=0.2, random_state=42)"
   ]
  },
  {
   "cell_type": "code",
   "execution_count": 84,
   "metadata": {},
   "outputs": [],
   "source": [
    "from sklearn.ensemble import AdaBoostClassifier\n",
    "from sklearn.tree import DecisionTreeClassifier\n",
    "from sklearn.metrics import accuracy_score\n",
    "\n",
    "base_model = DecisionTreeClassifier(max_depth = 5)\n",
    "model = AdaBoostClassifier(estimator = base_model,\n",
    "                         n_estimators = 100,\n",
    "                         random_state = 10,\n",
    "                         learning_rate = 0.01)"
   ]
  },
  {
   "cell_type": "code",
   "execution_count": 85,
   "metadata": {},
   "outputs": [],
   "source": [
    "def train_and_save_model(x_train, y_train, model_save_path):\n",
    "    model.fit(x_train, y_train)\n",
    "\n",
    "    # 모델 저장\n",
    "    joblib.dump(model, model_save_path)"
   ]
  },
  {
   "cell_type": "code",
   "execution_count": 86,
   "metadata": {},
   "outputs": [],
   "source": [
    "model_save_path = 'C:\\\\Users\\\\user\\\\Desktop\\\\test\\\\Define\\\\Define_add\\\\adaboost_model.pkl'\n",
    "train_and_save_model(X_train, y_train, model_save_path)"
   ]
  },
  {
   "cell_type": "code",
   "execution_count": 87,
   "metadata": {},
   "outputs": [
    {
     "name": "stdout",
     "output_type": "stream",
     "text": [
      "Accuracy: 0.8549\n",
      "Confusion Matrix:\n",
      "[[767  21]\n",
      " [169 352]]\n",
      "Classification Report:\n",
      "              precision    recall  f1-score   support\n",
      "\n",
      "           0       0.82      0.97      0.89       788\n",
      "           1       0.94      0.68      0.79       521\n",
      "\n",
      "    accuracy                           0.85      1309\n",
      "   macro avg       0.88      0.82      0.84      1309\n",
      "weighted avg       0.87      0.85      0.85      1309\n",
      "\n"
     ]
    }
   ],
   "source": [
    "# 모델 로드\n",
    "loaded_model = joblib.load('C:\\\\Users\\\\user\\\\Desktop\\\\test\\\\Define\\\\Define_add\\\\adaboost_model.pkl')  # 모델 파일 경로로 변경\n",
    "\n",
    "# 테스트 데이터에 대한 예측 수행\n",
    "y_pred = loaded_model.predict(X_test)\n",
    "\n",
    "accuracy = accuracy_score(y_test, y_pred)\n",
    "print(f'Accuracy: {accuracy:.4f}')\n",
    "\n",
    "# Confusion matrix 출력\n",
    "cm = confusion_matrix(y_test, y_pred)\n",
    "print('Confusion Matrix:')\n",
    "print(cm)\n",
    "\n",
    "# Classification report 출력\n",
    "classification_rep = classification_report(y_test, y_pred)\n",
    "print('Classification Report:')\n",
    "print(classification_rep)\n"
   ]
  },
  {
   "cell_type": "code",
   "execution_count": null,
   "metadata": {},
   "outputs": [],
   "source": []
  }
 ],
 "metadata": {
  "kernelspec": {
   "display_name": "define_4",
   "language": "python",
   "name": "python3"
  },
  "language_info": {
   "codemirror_mode": {
    "name": "ipython",
    "version": 3
   },
   "file_extension": ".py",
   "mimetype": "text/x-python",
   "name": "python",
   "nbconvert_exporter": "python",
   "pygments_lexer": "ipython3",
   "version": "3.9.18"
  }
 },
 "nbformat": 4,
 "nbformat_minor": 2
}
