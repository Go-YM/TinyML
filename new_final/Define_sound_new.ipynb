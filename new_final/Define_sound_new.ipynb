{
 "cells": [
  {
   "cell_type": "code",
   "execution_count": 20,
   "metadata": {},
   "outputs": [],
   "source": [
    "import numpy as np\n",
    "import tensorflow as tf\n",
    "from tensorflow import keras\n",
    "import os \n",
    "import joblib\n",
    "import h5py\n",
    "import pandas as pd\n",
    "from sklearn.ensemble import RandomForestClassifier\n",
    "from sklearn.model_selection import train_test_split\n",
    "from sklearn.metrics import accuracy_score, classification_report\n",
    "\n",
    "import matplotlib.pyplot as plt"
   ]
  },
  {
   "cell_type": "code",
   "execution_count": 21,
   "metadata": {},
   "outputs": [
    {
     "name": "stdout",
     "output_type": "stream",
     "text": [
      "Accuracy: 0.75\n",
      "\n",
      "Classification Report:\n",
      "              precision    recall  f1-score   support\n",
      "\n",
      "     Loading       0.80      0.78      0.79       788\n",
      "   Unloading       0.68      0.70      0.69       521\n",
      "\n",
      "    accuracy                           0.75      1309\n",
      "   macro avg       0.74      0.74      0.74      1309\n",
      "weighted avg       0.75      0.75      0.75      1309\n",
      "\n"
     ]
    }
   ],
   "source": [
    "# csv 파일 로드 (해당 열 로드)\n",
    "df=pd.read_csv('C:\\\\Users\\\\user\\\\Desktop\\\\test\\\\Define\\\\tinyML\\\\data_sound.csv') # 실제 경로로 변경\n",
    "X = df[['cb_data_Audio_Level']]\n",
    "y = df['Pattern Label']\n",
    "\n",
    "# data set 분할 (train:test=8:2) -> test size를 조절하여 수정\n",
    "X_train, X_test, y_train, y_test = train_test_split(X, y, test_size=0.2, random_state=42)\n",
    "\n",
    "def train_and_save_model(X_train, y_train):\n",
    "    # RandomForestClassifier 모델 초기화 및 학습\n",
    "    model = RandomForestClassifier()\n",
    "    model.fit(X_train, y_train)\n",
    "\n",
    "    # 테스트 데이터로 예측\n",
    "    y_pred = model.predict(X_test)\n",
    "\n",
    "    # 정확도 및 분류 보고서 출력\n",
    "    accuracy = accuracy_score(y_test, y_pred) \n",
    "    print(f'Accuracy: {accuracy:.2f}')\n",
    "\n",
    "\n",
    "def model_to_h5(model_save_path, h5_save_path):\n",
    "    # 모델 불러오기\n",
    "    model = joblib.load(model_save_path)\n",
    "\n",
    "    # H5 파일로 저장\n",
    "    with h5py.File(h5_save_path, 'w') as hf:\n",
    "        for key, value in model.__dict__.items():\n",
    "            try:\n",
    "                hf.create_dataset(key, data=value)\n",
    "            except TypeError:\n",
    "                pass\n",
    "\n",
    "\n",
    "# 모델 학습 및 저장\n",
    "train_and_save_model(X_train, y_train)\n",
    "\n",
    "# # 모델을 H5 파일로 저장\n",
    "# model_save_path = r'' # 실제 경로로 변경\n",
    "# h5_save_path = r''  # 실제 경로로 변경\n",
    "# model_to_h5(model_save_path, h5_save_path)"
   ]
  },
  {
   "cell_type": "code",
   "execution_count": null,
   "metadata": {},
   "outputs": [],
   "source": []
  }
 ],
 "metadata": {
  "kernelspec": {
   "display_name": "define_sig",
   "language": "python",
   "name": "python3"
  },
  "language_info": {
   "codemirror_mode": {
    "name": "ipython",
    "version": 3
   },
   "file_extension": ".py",
   "mimetype": "text/x-python",
   "name": "python",
   "nbconvert_exporter": "python",
   "pygments_lexer": "ipython3",
   "version": "3.10.13"
  }
 },
 "nbformat": 4,
 "nbformat_minor": 2
}
